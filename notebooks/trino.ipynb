{
 "cells": [
  {
   "cell_type": "markdown",
   "id": "6ab875bd-09b8-4ffc-bea2-683ceab76956",
   "metadata": {},
   "source": [
    "# Apache X Table with DeltaStreamer and trino Demo"
   ]
  },
  {
   "cell_type": "markdown",
   "id": "1fae7304-be62-471c-8eee-9ac72fdf2f00",
   "metadata": {},
   "source": [
    "# Install DEP\n",
    "```\n",
    "pip install trino\n",
    "pip install ipython-sql\n",
    "\n",
    "```"
   ]
  },
  {
   "cell_type": "markdown",
   "id": "9dd5b6ec-dc36-4666-abfd-2a3d7321fc55",
   "metadata": {},
   "source": [
    "# Read data as HUDI "
   ]
  },
  {
   "cell_type": "code",
   "execution_count": 23,
   "id": "4d063637-aab8-4c7c-968b-d9dab3548030",
   "metadata": {},
   "outputs": [
    {
     "name": "stdout",
     "output_type": "stream",
     "text": [
      "The sql extension is already loaded. To reload it, use:\n",
      "  %reload_ext sql\n"
     ]
    }
   ],
   "source": [
    "%load_ext sql"
   ]
  },
  {
   "cell_type": "code",
   "execution_count": 24,
   "id": "6d2d4f61-d068-4f08-8343-8c70ac54ff5f",
   "metadata": {},
   "outputs": [],
   "source": [
    "%sql trino://admin@localhost:8080/default"
   ]
  },
  {
   "cell_type": "code",
   "execution_count": 25,
   "id": "0a16dba0-d4df-49a3-9eb9-b9b2ae619c4e",
   "metadata": {},
   "outputs": [
    {
     "name": "stdout",
     "output_type": "stream",
     "text": [
      " * trino://admin@localhost:8080/default\n",
      "Done.\n"
     ]
    },
    {
     "data": {
      "text/html": [
       "<table>\n",
       "    <thead>\n",
       "        <tr>\n",
       "            <th>Table</th>\n",
       "        </tr>\n",
       "    </thead>\n",
       "    <tbody>\n",
       "        <tr>\n",
       "            <td>bronze_orders</td>\n",
       "        </tr>\n",
       "    </tbody>\n",
       "</table>"
      ],
      "text/plain": [
       "[('bronze_orders',)]"
      ]
     },
     "execution_count": 25,
     "metadata": {},
     "output_type": "execute_result"
    }
   ],
   "source": [
    "%sql SHOW TABLES"
   ]
  },
  {
   "cell_type": "code",
   "execution_count": 26,
   "id": "154fc82f-b218-47c2-8028-05b970b6a782",
   "metadata": {},
   "outputs": [
    {
     "name": "stdout",
     "output_type": "stream",
     "text": [
      " * trino://admin@localhost:8080/default\n",
      "Done.\n"
     ]
    },
    {
     "data": {
      "text/html": [
       "<table>\n",
       "    <thead>\n",
       "        <tr>\n",
       "            <th>Catalog</th>\n",
       "        </tr>\n",
       "    </thead>\n",
       "    <tbody>\n",
       "        <tr>\n",
       "            <td>delta</td>\n",
       "        </tr>\n",
       "        <tr>\n",
       "            <td>hive</td>\n",
       "        </tr>\n",
       "        <tr>\n",
       "            <td>hudi</td>\n",
       "        </tr>\n",
       "        <tr>\n",
       "            <td>iceberg</td>\n",
       "        </tr>\n",
       "        <tr>\n",
       "            <td>minio</td>\n",
       "        </tr>\n",
       "        <tr>\n",
       "            <td>system</td>\n",
       "        </tr>\n",
       "    </tbody>\n",
       "</table>"
      ],
      "text/plain": [
       "[('delta',), ('hive',), ('hudi',), ('iceberg',), ('minio',), ('system',)]"
      ]
     },
     "execution_count": 26,
     "metadata": {},
     "output_type": "execute_result"
    }
   ],
   "source": [
    "%sql SHOW CATALOGS"
   ]
  },
  {
   "cell_type": "code",
   "execution_count": 27,
   "id": "3b9db31f-aba4-4525-be67-1d0333c177af",
   "metadata": {},
   "outputs": [
    {
     "name": "stdout",
     "output_type": "stream",
     "text": [
      " * trino://admin@localhost:8080/default\n",
      "Done.\n"
     ]
    },
    {
     "data": {
      "text/plain": [
       "[]"
      ]
     },
     "execution_count": 27,
     "metadata": {},
     "output_type": "execute_result"
    }
   ],
   "source": [
    "%sql USE hudi.default"
   ]
  },
  {
   "cell_type": "code",
   "execution_count": 28,
   "id": "3e49e25d-5423-437a-9118-bc918c0d153e",
   "metadata": {},
   "outputs": [
    {
     "name": "stdout",
     "output_type": "stream",
     "text": [
      " * trino://admin@localhost:8080/default\n",
      "Done.\n"
     ]
    },
    {
     "data": {
      "text/html": [
       "<table>\n",
       "    <thead>\n",
       "        <tr>\n",
       "            <th>_hoodie_commit_time</th>\n",
       "            <th>_hoodie_commit_seqno</th>\n",
       "            <th>_hoodie_record_key</th>\n",
       "            <th>_hoodie_partition_path</th>\n",
       "            <th>_hoodie_file_name</th>\n",
       "            <th>order_id</th>\n",
       "            <th>name</th>\n",
       "            <th>order_value</th>\n",
       "            <th>priority</th>\n",
       "            <th>order_date</th>\n",
       "            <th>customer_id</th>\n",
       "            <th>ts</th>\n",
       "            <th>state</th>\n",
       "        </tr>\n",
       "    </thead>\n",
       "    <tbody>\n",
       "        <tr>\n",
       "            <td>20240805123352428</td>\n",
       "            <td>20240805123352428_20_0</td>\n",
       "            <td>f6085f93-9843-4b33-913f-ebebe2e85945</td>\n",
       "            <td>state=GU</td>\n",
       "            <td>5607e92f-a155-4496-adfb-668e73c6dc77-0_20-27-182_20240805123352428.parquet</td>\n",
       "            <td>f6085f93-9843-4b33-913f-ebebe2e85945</td>\n",
       "            <td>Amount note someone.</td>\n",
       "            <td>861</td>\n",
       "            <td>MEDIUM</td>\n",
       "            <td>2024-07-26</td>\n",
       "            <td>4988fcb7-74c5-4df1-901a-686afbdc131f</td>\n",
       "            <td>1722620744.919279</td>\n",
       "            <td>GU</td>\n",
       "        </tr>\n",
       "        <tr>\n",
       "            <td>20240805123352428</td>\n",
       "            <td>20240805123352428_44_0</td>\n",
       "            <td>8c1cf019-1c58-4f37-8a04-bba59c8732ba</td>\n",
       "            <td>state=AR</td>\n",
       "            <td>5bd70854-516e-4265-95f5-ad0b354c58dc-0_44-27-206_20240805123352428.parquet</td>\n",
       "            <td>8c1cf019-1c58-4f37-8a04-bba59c8732ba</td>\n",
       "            <td>Skill beyond blood.</td>\n",
       "            <td>764</td>\n",
       "            <td>HIGH</td>\n",
       "            <td>2024-07-21</td>\n",
       "            <td>db99f84e-6b42-4a98-9487-f401c7371cbf</td>\n",
       "            <td>1722620744.892155</td>\n",
       "            <td>AR</td>\n",
       "        </tr>\n",
       "    </tbody>\n",
       "</table>"
      ],
      "text/plain": [
       "[('20240805123352428', '20240805123352428_20_0', 'f6085f93-9843-4b33-913f-ebebe2e85945', 'state=GU', '5607e92f-a155-4496-adfb-668e73c6dc77-0_20-27-182_20240805123352428.parquet', 'f6085f93-9843-4b33-913f-ebebe2e85945', 'Amount note someone.', 861, 'MEDIUM', datetime.date(2024, 7, 26), '4988fcb7-74c5-4df1-901a-686afbdc131f', 1722620744.919279, 'GU'),\n",
       " ('20240805123352428', '20240805123352428_44_0', '8c1cf019-1c58-4f37-8a04-bba59c8732ba', 'state=AR', '5bd70854-516e-4265-95f5-ad0b354c58dc-0_44-27-206_20240805123352428.parquet', '8c1cf019-1c58-4f37-8a04-bba59c8732ba', 'Skill beyond blood.', 764, 'HIGH', datetime.date(2024, 7, 21), 'db99f84e-6b42-4a98-9487-f401c7371cbf', 1722620744.892155, 'AR')]"
      ]
     },
     "execution_count": 28,
     "metadata": {},
     "output_type": "execute_result"
    }
   ],
   "source": [
    "%sql SELECT * FROM bronze_orders limit 2"
   ]
  },
  {
   "cell_type": "code",
   "execution_count": 29,
   "id": "453405bc-ac57-41ab-80fa-b8e8b73fef2c",
   "metadata": {},
   "outputs": [
    {
     "name": "stdout",
     "output_type": "stream",
     "text": [
      " * trino://admin@localhost:8080/default\n",
      "Done.\n",
      " * trino://admin@localhost:8080/default\n",
      "Done.\n",
      " * trino://admin@localhost:8080/default\n",
      "Done.\n",
      " * trino://admin@localhost:8080/default\n",
      "Done.\n"
     ]
    },
    {
     "data": {
      "text/html": [
       "<table>\n",
       "    <thead>\n",
       "        <tr>\n",
       "            <th>_hoodie_commit_time</th>\n",
       "            <th>_hoodie_commit_seqno</th>\n",
       "            <th>_hoodie_record_key</th>\n",
       "            <th>_hoodie_partition_path</th>\n",
       "            <th>_hoodie_file_name</th>\n",
       "            <th>order_id</th>\n",
       "            <th>name</th>\n",
       "            <th>order_value</th>\n",
       "            <th>priority</th>\n",
       "            <th>order_date</th>\n",
       "            <th>customer_id</th>\n",
       "            <th>ts</th>\n",
       "            <th>state</th>\n",
       "        </tr>\n",
       "    </thead>\n",
       "    <tbody>\n",
       "        <tr>\n",
       "            <td>20240805123352428</td>\n",
       "            <td>20240805123352428_36_0</td>\n",
       "            <td>ccf9f639-9fdd-4d51-b062-e33a6f0cd4b6</td>\n",
       "            <td>state=HI</td>\n",
       "            <td>b615a0f6-45af-4d62-a8db-325338167cd4-0_36-27-198_20240805123352428.parquet</td>\n",
       "            <td>ccf9f639-9fdd-4d51-b062-e33a6f0cd4b6</td>\n",
       "            <td>Response whose news.</td>\n",
       "            <td>175</td>\n",
       "            <td>MEDIUM</td>\n",
       "            <td>2024-07-04</td>\n",
       "            <td>c653428e-96e8-49bd-a922-7aca878fa7eb</td>\n",
       "            <td>1722620744.958708</td>\n",
       "            <td>HI</td>\n",
       "        </tr>\n",
       "        <tr>\n",
       "            <td>20240805123352428</td>\n",
       "            <td>20240805123352428_38_0</td>\n",
       "            <td>3c77bdc7-6847-4cab-ac1f-5bd467c17dba</td>\n",
       "            <td>state=IN</td>\n",
       "            <td>7afe3963-b53a-42bd-8136-b50a3c1fd1ef-0_38-27-200_20240805123352428.parquet</td>\n",
       "            <td>3c77bdc7-6847-4cab-ac1f-5bd467c17dba</td>\n",
       "            <td>That official issue.</td>\n",
       "            <td>469</td>\n",
       "            <td>HIGH</td>\n",
       "            <td>2024-07-09</td>\n",
       "            <td>a1472ac7-7858-4bfd-845b-c58eadcc0097</td>\n",
       "            <td>1722620744.918319</td>\n",
       "            <td>IN</td>\n",
       "        </tr>\n",
       "    </tbody>\n",
       "</table>"
      ],
      "text/plain": [
       "[('20240805123352428', '20240805123352428_36_0', 'ccf9f639-9fdd-4d51-b062-e33a6f0cd4b6', 'state=HI', 'b615a0f6-45af-4d62-a8db-325338167cd4-0_36-27-198_20240805123352428.parquet', 'ccf9f639-9fdd-4d51-b062-e33a6f0cd4b6', 'Response whose news.', 175, 'MEDIUM', datetime.date(2024, 7, 4), 'c653428e-96e8-49bd-a922-7aca878fa7eb', 1722620744.958708, 'HI'),\n",
       " ('20240805123352428', '20240805123352428_38_0', '3c77bdc7-6847-4cab-ac1f-5bd467c17dba', 'state=IN', '7afe3963-b53a-42bd-8136-b50a3c1fd1ef-0_38-27-200_20240805123352428.parquet', '3c77bdc7-6847-4cab-ac1f-5bd467c17dba', 'That official issue.', 469, 'HIGH', datetime.date(2024, 7, 9), 'a1472ac7-7858-4bfd-845b-c58eadcc0097', 1722620744.918319, 'IN')]"
      ]
     },
     "execution_count": 29,
     "metadata": {},
     "output_type": "execute_result"
    }
   ],
   "source": [
    "%sql SHOW CATALOGS\n",
    "\n",
    "%sql USE hudi.default\n",
    "\n",
    "%sql SHOW TABLES\n",
    "\n",
    "%sql SELECT * FROM bronze_orders limit 2"
   ]
  },
  {
   "cell_type": "markdown",
   "id": "249a77ce-8d11-4685-8fd9-d6d179e1ab47",
   "metadata": {},
   "source": [
    "# Read As delta"
   ]
  },
  {
   "cell_type": "code",
   "execution_count": 106,
   "id": "e7d25564-7eb2-49d2-888d-362f3e1363e5",
   "metadata": {},
   "outputs": [
    {
     "name": "stdout",
     "output_type": "stream",
     "text": [
      " * trino://admin@localhost:8080/default\n",
      "Done.\n",
      " * trino://admin@localhost:8080/default\n",
      "Done.\n",
      " * trino://admin@localhost:8080/default\n",
      "Done.\n",
      " * trino://admin@localhost:8080/default\n",
      "Done.\n"
     ]
    },
    {
     "data": {
      "text/html": [
       "<table>\n",
       "    <thead>\n",
       "        <tr>\n",
       "            <th>_hoodie_commit_time</th>\n",
       "            <th>_hoodie_commit_seqno</th>\n",
       "            <th>_hoodie_record_key</th>\n",
       "            <th>_hoodie_partition_path</th>\n",
       "            <th>_hoodie_file_name</th>\n",
       "            <th>order_id</th>\n",
       "            <th>name</th>\n",
       "            <th>order_value</th>\n",
       "            <th>priority</th>\n",
       "            <th>state</th>\n",
       "            <th>order_date</th>\n",
       "            <th>customer_id</th>\n",
       "            <th>ts</th>\n",
       "        </tr>\n",
       "    </thead>\n",
       "    <tbody>\n",
       "        <tr>\n",
       "            <td>20240805123352428</td>\n",
       "            <td>20240805123352428_11_0</td>\n",
       "            <td>46719ddc-17f8-428e-8c28-0798a2a242af</td>\n",
       "            <td>state=ND</td>\n",
       "            <td>7add6f53-813a-4ac7-92c1-f98a29c6fcd0-0_11-27-173_20240805123352428.parquet</td>\n",
       "            <td>46719ddc-17f8-428e-8c28-0798a2a242af</td>\n",
       "            <td>Scene consumer cost.</td>\n",
       "            <td>584</td>\n",
       "            <td>LOW</td>\n",
       "            <td>ND</td>\n",
       "            <td>2024-07-14</td>\n",
       "            <td>7a8b6846-2e11-4202-a7c3-c177a56dc7c5</td>\n",
       "            <td>1722620744.896923</td>\n",
       "        </tr>\n",
       "        <tr>\n",
       "            <td>20240805123352428</td>\n",
       "            <td>20240805123352428_9_0</td>\n",
       "            <td>5921c415-d3c2-4031-a519-32066771aaf2</td>\n",
       "            <td>state=RI</td>\n",
       "            <td>3cce1839-6c8b-4e32-afbb-9aa5801b8cd1-0_9-27-171_20240805123352428.parquet</td>\n",
       "            <td>5921c415-d3c2-4031-a519-32066771aaf2</td>\n",
       "            <td>Rule message make.</td>\n",
       "            <td>348</td>\n",
       "            <td>HIGH</td>\n",
       "            <td>RI</td>\n",
       "            <td>2024-07-03</td>\n",
       "            <td>98bbcd1e-9cb7-4b1e-8046-ede6842d74f1</td>\n",
       "            <td>1722620744.962104</td>\n",
       "        </tr>\n",
       "    </tbody>\n",
       "</table>"
      ],
      "text/plain": [
       "[('20240805123352428', '20240805123352428_11_0', '46719ddc-17f8-428e-8c28-0798a2a242af', 'state=ND', '7add6f53-813a-4ac7-92c1-f98a29c6fcd0-0_11-27-173_20240805123352428.parquet', '46719ddc-17f8-428e-8c28-0798a2a242af', 'Scene consumer cost.', 584, 'LOW', 'ND', datetime.date(2024, 7, 14), '7a8b6846-2e11-4202-a7c3-c177a56dc7c5', 1722620744.896923),\n",
       " ('20240805123352428', '20240805123352428_9_0', '5921c415-d3c2-4031-a519-32066771aaf2', 'state=RI', '3cce1839-6c8b-4e32-afbb-9aa5801b8cd1-0_9-27-171_20240805123352428.parquet', '5921c415-d3c2-4031-a519-32066771aaf2', 'Rule message make.', 348, 'HIGH', 'RI', datetime.date(2024, 7, 3), '98bbcd1e-9cb7-4b1e-8046-ede6842d74f1', 1722620744.962104)]"
      ]
     },
     "execution_count": 106,
     "metadata": {},
     "output_type": "execute_result"
    }
   ],
   "source": [
    "%sql SHOW CATALOGS\n",
    "\n",
    "%sql USE delta.delta_db\n",
    "\n",
    "%sql SHOW TABLES\n",
    "\n",
    "%sql select * from orders limit 2 \n"
   ]
  },
  {
   "cell_type": "code",
   "execution_count": 113,
   "id": "101a13e9",
   "metadata": {},
   "outputs": [
    {
     "name": "stdout",
     "output_type": "stream",
     "text": [
      " * trino://admin@localhost:8080/default\n",
      "Done.\n"
     ]
    },
    {
     "data": {
      "text/html": [
       "<table>\n",
       "    <thead>\n",
       "        <tr>\n",
       "            <th>_hoodie_commit_time</th>\n",
       "            <th>_hoodie_commit_seqno</th>\n",
       "            <th>_hoodie_record_key</th>\n",
       "            <th>_hoodie_partition_path</th>\n",
       "            <th>_hoodie_file_name</th>\n",
       "            <th>order_id</th>\n",
       "            <th>name</th>\n",
       "            <th>order_value</th>\n",
       "            <th>priority</th>\n",
       "            <th>state</th>\n",
       "            <th>order_date</th>\n",
       "            <th>customer_id</th>\n",
       "            <th>ts</th>\n",
       "        </tr>\n",
       "    </thead>\n",
       "    <tbody>\n",
       "        <tr>\n",
       "            <td>20240805123352428</td>\n",
       "            <td>20240805123352428_48_0</td>\n",
       "            <td>fc77db99-4f0b-4e52-97b6-cb50c6b808fd</td>\n",
       "            <td>state=MD</td>\n",
       "            <td>f96a2abe-1e83-4912-a3f8-9959919832c2-0_48-27-210_20240805123352428.parquet</td>\n",
       "            <td>fc77db99-4f0b-4e52-97b6-cb50c6b808fd</td>\n",
       "            <td>In practice anyone.</td>\n",
       "            <td>332</td>\n",
       "            <td>HIGH</td>\n",
       "            <td>MD</td>\n",
       "            <td>2024-07-06</td>\n",
       "            <td>9f1f5452-8753-40bd-a7d5-6a428ec99bc8</td>\n",
       "            <td>1722620744.943</td>\n",
       "        </tr>\n",
       "        <tr>\n",
       "            <td>20240805123352428</td>\n",
       "            <td>20240805123352428_55_0</td>\n",
       "            <td>01929df7-0292-4a92-a3cb-680f4fafdd72</td>\n",
       "            <td>state=MN</td>\n",
       "            <td>2f76bde2-ce2a-440a-bd73-d8166ea24899-0_55-27-217_20240805123352428.parquet</td>\n",
       "            <td>01929df7-0292-4a92-a3cb-680f4fafdd72</td>\n",
       "            <td>Out nice morning.</td>\n",
       "            <td>697</td>\n",
       "            <td>MEDIUM</td>\n",
       "            <td>MN</td>\n",
       "            <td>2024-07-14</td>\n",
       "            <td>9d862ab4-604f-40a1-ab39-6b535ec8ca1d</td>\n",
       "            <td>1722620744.896542</td>\n",
       "        </tr>\n",
       "    </tbody>\n",
       "</table>"
      ],
      "text/plain": [
       "[('20240805123352428', '20240805123352428_48_0', 'fc77db99-4f0b-4e52-97b6-cb50c6b808fd', 'state=MD', 'f96a2abe-1e83-4912-a3f8-9959919832c2-0_48-27-210_20240805123352428.parquet', 'fc77db99-4f0b-4e52-97b6-cb50c6b808fd', 'In practice anyone.', 332, 'HIGH', 'MD', datetime.date(2024, 7, 6), '9f1f5452-8753-40bd-a7d5-6a428ec99bc8', 1722620744.943),\n",
       " ('20240805123352428', '20240805123352428_55_0', '01929df7-0292-4a92-a3cb-680f4fafdd72', 'state=MN', '2f76bde2-ce2a-440a-bd73-d8166ea24899-0_55-27-217_20240805123352428.parquet', '01929df7-0292-4a92-a3cb-680f4fafdd72', 'Out nice morning.', 697, 'MEDIUM', 'MN', datetime.date(2024, 7, 14), '9d862ab4-604f-40a1-ab39-6b535ec8ca1d', 1722620744.896542)]"
      ]
     },
     "execution_count": 113,
     "metadata": {},
     "output_type": "execute_result"
    }
   ],
   "source": [
    "%sql SELECT * FROM delta.delta_db.orders FOR VERSION AS OF 0 LIMIT 2"
   ]
  },
  {
   "cell_type": "code",
   "execution_count": null,
   "id": "78c8bc2d",
   "metadata": {},
   "outputs": [],
   "source": []
  }
 ],
 "metadata": {
  "kernelspec": {
   "display_name": "Python 3 (ipykernel)",
   "language": "python",
   "name": "python3"
  },
  "language_info": {
   "codemirror_mode": {
    "name": "ipython",
    "version": 3
   },
   "file_extension": ".py",
   "mimetype": "text/x-python",
   "name": "python",
   "nbconvert_exporter": "python",
   "pygments_lexer": "ipython3",
   "version": "3.11.0"
  }
 },
 "nbformat": 4,
 "nbformat_minor": 5
}
